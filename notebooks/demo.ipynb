{
 "cells": [
  {
   "cell_type": "code",
   "execution_count": 10,
   "metadata": {},
   "outputs": [
    {
     "name": "stderr",
     "output_type": "stream",
     "text": [
      "[nltk_data] Downloading package punkt_tab to /home/ssever/nltk_data...\n",
      "[nltk_data]   Unzipping tokenizers/punkt_tab.zip.\n"
     ]
    }
   ],
   "source": [
    "from google import genai\n",
    "import nltk\n",
    "nltk.download('punkt_tab')\n",
    "\n",
    "import yaml"
   ]
  },
  {
   "cell_type": "code",
   "execution_count": 11,
   "metadata": {},
   "outputs": [],
   "source": [
    "def load_config(config_path='/home/ssever/rag-llm-demo/config/config.yaml'):\n",
    "    with open(config_path, 'r') as file:\n",
    "        return yaml.safe_load(file)\n",
    "\n",
    "# Load the configuration\n",
    "config = load_config()\n",
    "\n",
    "# Access your API key\n",
    "api_key = config['api']['key']\n"
   ]
  },
  {
   "cell_type": "code",
   "execution_count": 12,
   "metadata": {},
   "outputs": [
    {
     "name": "stdout",
     "output_type": "stream",
     "text": [
      "I am doing well , thank you for asking ! As a large language model , I do n't experience emotions or physical sensations like humans do , but I am functioning optimally and ready to assist you . How can I help you today ? "
     ]
    }
   ],
   "source": [
    "client = genai.Client(api_key=api_key)\n",
    "response = client.models.generate_content_stream(\n",
    "    model=\"gemini-2.0-flash\", \n",
    "    contents=[\"How are you?\"]\n",
    ")\n",
    "\n",
    "for chunk in response:\n",
    "    words = nltk.word_tokenize(chunk.text)\n",
    "    for word in words:\n",
    "        print(word, end=\" \")"
   ]
  }
 ],
 "metadata": {
  "kernelspec": {
   "display_name": "genai",
   "language": "python",
   "name": "python3"
  },
  "language_info": {
   "codemirror_mode": {
    "name": "ipython",
    "version": 3
   },
   "file_extension": ".py",
   "mimetype": "text/x-python",
   "name": "python",
   "nbconvert_exporter": "python",
   "pygments_lexer": "ipython3",
   "version": "3.12.8"
  }
 },
 "nbformat": 4,
 "nbformat_minor": 2
}
